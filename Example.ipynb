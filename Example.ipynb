{
 "cells": [
  {
   "cell_type": "markdown",
   "id": "423ad117",
   "metadata": {},
   "source": [
    "# Example\n",
    "\n",
    "Code written by Knapoj Chaimanekorn, <br>\n",
    "Sat. 20 August 2022\n",
    "\n",
    "## 1. Balanced Fault Analysis of a 11-Bus Power System "
   ]
  },
  {
   "cell_type": "code",
   "execution_count": 1,
   "id": "5b1bc11b",
   "metadata": {
    "ExecuteTime": {
     "end_time": "2022-08-20T12:52:55.341877Z",
     "start_time": "2022-08-20T12:52:54.984732Z"
    }
   },
   "outputs": [],
   "source": [
    "import numpy as np\n",
    "from pyeps import *"
   ]
  },
  {
   "cell_type": "code",
   "execution_count": 2,
   "id": "7e9ab66a",
   "metadata": {
    "ExecuteTime": {
     "end_time": "2022-08-20T12:52:55.373835Z",
     "start_time": "2022-08-20T12:52:55.341877Z"
    }
   },
   "outputs": [],
   "source": [
    "# Build bus impedance matrix from zdata...\n",
    "# From bus (No.), To bus (No.), R (pu.), X(pu.)\n",
    "\n",
    "zdata = np.array([\n",
    "    [0,1,0,0.2],\n",
    "    [0,10,0,0.15],\n",
    "    [0,11,0,0.25],\n",
    "    [1,2,0,0.06],\n",
    "    [2,3,0.08,0.3],\n",
    "    [2,5,0.04,0.15],\n",
    "    [2,6,0.12,0.45],\n",
    "    [3,4,0.10,0.40],\n",
    "    [3,6,0.04,0.4],\n",
    "    [4,6,0.15,0.6],\n",
    "    [4,9,0.18,0.70],\n",
    "    [4,10,0,0.08],\n",
    "    [5,7,0.05,0.43],\n",
    "    [6,8,0.06,0.48],\n",
    "    [7,8,0.06,0.35],\n",
    "    [7,11,0,0.1],\n",
    "    [8,9,0.052,0.48]\n",
    "])\n",
    "\n",
    "zbus = zbuild(zdata)"
   ]
  },
  {
   "cell_type": "code",
   "execution_count": 3,
   "id": "e4613af0",
   "metadata": {
    "ExecuteTime": {
     "end_time": "2022-08-20T12:52:57.563129Z",
     "start_time": "2022-08-20T12:52:55.380339Z"
    }
   },
   "outputs": [
    {
     "data": {
      "text/latex": [
       "$\\mathbf{Z}_{bus} = $"
      ],
      "text/plain": [
       "<IPython.core.display.Latex object>"
      ]
     },
     "metadata": {},
     "output_type": "display_data"
    },
    {
     "data": {
      "text/latex": [
       "$\\displaystyle \\left[\\begin{array}{ccccccccccc}0.005 + 0.1365 i & 0.0065 + 0.1175 i & 0.0009 + 0.0823 i & -0.0044 + 0.0405 i & 0.0023 + 0.0998 i & 0.0003 + 0.0773 i & -0.0019 + 0.0495 i & -0.0011 + 0.0582 i & -0.0018 + 0.051 i & -0.0029 + 0.0264 i & -0.0014 + 0.0353 i\\\\0.0065 + 0.1175 i & 0.0084 + 0.1527 i & 0.0011 + 0.107 i & -0.0058 + 0.0527 i & 0.003 + 0.1298 i & 0.0003 + 0.1005 i & -0.0025 + 0.0643 i & -0.0015 + 0.0757 i & -0.0024 + 0.0663 i & -0.0038 + 0.0343 i & -0.0018 + 0.0459 i\\\\0.0009 + 0.0823 i & 0.0011 + 0.107 i & 0.0311 + 0.2334 i & 0.0001 + 0.0954 i & -0.0009 + 0.0949 i & 0.0137 + 0.1385 i & -0.0017 + 0.0607 i & 0.0049 + 0.0937 i & 0.0029 + 0.0942 i & 0.0001 + 0.0622 i & -0.0012 + 0.0434 i\\\\-0.0044 + 0.0405 i & -0.0058 + 0.0527 i & 0.0001 + 0.0954 i & 0.008 + 0.1564 i & -0.0057 + 0.0496 i & -0.0003 + 0.0914 i & -0.0045 + 0.0412 i & -0.0012 + 0.0761 i & -0.0003 + 0.1085 i & 0.0052 + 0.102 i & -0.0032 + 0.0294 i\\\\0.0023 + 0.0998 i & 0.003 + 0.1298 i & -0.0009 + 0.0949 i & -0.0057 + 0.0496 i & 0.0279 + 0.2335 i & -0.0004 + 0.094 i & 0.0047 + 0.0998 i & 0.0015 + 0.0904 i & 0.0738 i & -0.0037 + 0.0323 i & 0.0033 + 0.0713 i\\\\0.0003 + 0.0773 i & 0.0003 + 0.1005 i & 0.0137 + 0.1385 i & -0.0003 + 0.0914 i & -0.0004 + 0.094 i & 0.0297 + 0.2371 i & 0.0755 i & 0.0125 + 0.1359 i & 0.0089 + 0.1177 i & -0.0002 + 0.0596 i & 0.0539 i\\\\-0.0019 + 0.0495 i & -0.0025 + 0.0643 i & -0.0017 + 0.0607 i & -0.0045 + 0.0412 i & 0.0047 + 0.0998 i & 0.0755 i & 0.0102 + 0.2008 i & 0.0038 + 0.1323 i & 0.0036 + 0.0956 i & -0.0029 + 0.0268 i & 0.0073 + 0.1434 i\\\\-0.0011 + 0.0582 i & -0.0015 + 0.0757 i & 0.0049 + 0.0937 i & -0.0012 + 0.0761 i & 0.0015 + 0.0904 i & 0.0125 + 0.1359 i & 0.0038 + 0.1323 i & 0.0339 + 0.2982 i & 0.0276 + 0.2082 i & -0.0008 + 0.0496 i & 0.0027 + 0.0945 i\\\\-0.0018 + 0.051 i & -0.0024 + 0.0663 i & 0.0029 + 0.0942 i & -0.0003 + 0.1085 i & 0.0738 i & 0.0089 + 0.1177 i & 0.0036 + 0.0956 i & 0.0276 + 0.2082 i & 0.0677 + 0.4536 i & -0.0002 + 0.0708 i & 0.0026 + 0.0683 i\\\\-0.0029 + 0.0264 i & -0.0038 + 0.0343 i & 0.0001 + 0.0622 i & 0.0052 + 0.102 i & -0.0037 + 0.0323 i & -0.0002 + 0.0596 i & -0.0029 + 0.0268 i & -0.0008 + 0.0496 i & -0.0002 + 0.0708 i & 0.0034 + 0.1187 i & -0.0021 + 0.0192 i\\\\-0.0014 + 0.0353 i & -0.0018 + 0.0459 i & -0.0012 + 0.0434 i & -0.0032 + 0.0294 i & 0.0033 + 0.0713 i & 0.0539 i & 0.0073 + 0.1434 i & 0.0027 + 0.0945 i & 0.0026 + 0.0683 i & -0.0021 + 0.0192 i & 0.0052 + 0.1739 i\\end{array}\\right]$"
      ],
      "text/plain": [
       "⎡ 0.005 + 0.1365⋅ⅈ   0.0065 + 0.1175⋅ⅈ   0.0009 + 0.0823⋅ⅈ   -0.0044 + 0.0405⋅\n",
       "⎢                                                                             \n",
       "⎢0.0065 + 0.1175⋅ⅈ   0.0084 + 0.1527⋅ⅈ    0.0011 + 0.107⋅ⅈ   -0.0058 + 0.0527⋅\n",
       "⎢                                                                             \n",
       "⎢0.0009 + 0.0823⋅ⅈ    0.0011 + 0.107⋅ⅈ   0.0311 + 0.2334⋅ⅈ   0.0001 + 0.0954⋅ⅈ\n",
       "⎢                                                                             \n",
       "⎢-0.0044 + 0.0405⋅ⅈ  -0.0058 + 0.0527⋅ⅈ  0.0001 + 0.0954⋅ⅈ    0.008 + 0.1564⋅ⅈ\n",
       "⎢                                                                             \n",
       "⎢0.0023 + 0.0998⋅ⅈ    0.003 + 0.1298⋅ⅈ   -0.0009 + 0.0949⋅ⅈ  -0.0057 + 0.0496⋅\n",
       "⎢                                                                             \n",
       "⎢0.0003 + 0.0773⋅ⅈ   0.0003 + 0.1005⋅ⅈ   0.0137 + 0.1385⋅ⅈ   -0.0003 + 0.0914⋅\n",
       "⎢                                                                             \n",
       "⎢-0.0019 + 0.0495⋅ⅈ  -0.0025 + 0.0643⋅ⅈ  -0.0017 + 0.0607⋅ⅈ  -0.0045 + 0.0412⋅\n",
       "⎢                                                                             \n",
       "⎢-0.0011 + 0.0582⋅ⅈ  -0.0015 + 0.0757⋅ⅈ  0.0049 + 0.0937⋅ⅈ   -0.0012 + 0.0761⋅\n",
       "⎢                                                                             \n",
       "⎢-0.0018 + 0.051⋅ⅈ   -0.0024 + 0.0663⋅ⅈ  0.0029 + 0.0942⋅ⅈ   -0.0003 + 0.1085⋅\n",
       "⎢                                                                             \n",
       "⎢-0.0029 + 0.0264⋅ⅈ  -0.0038 + 0.0343⋅ⅈ  0.0001 + 0.0622⋅ⅈ    0.0052 + 0.102⋅ⅈ\n",
       "⎢                                                                             \n",
       "⎣-0.0014 + 0.0353⋅ⅈ  -0.0018 + 0.0459⋅ⅈ  -0.0012 + 0.0434⋅ⅈ  -0.0032 + 0.0294⋅\n",
       "\n",
       "ⅈ  0.0023 + 0.0998⋅ⅈ   0.0003 + 0.0773⋅ⅈ   -0.0019 + 0.0495⋅ⅈ  -0.0011 + 0.058\n",
       "                                                                              \n",
       "ⅈ   0.003 + 0.1298⋅ⅈ   0.0003 + 0.1005⋅ⅈ   -0.0025 + 0.0643⋅ⅈ  -0.0015 + 0.075\n",
       "                                                                              \n",
       "   -0.0009 + 0.0949⋅ⅈ  0.0137 + 0.1385⋅ⅈ   -0.0017 + 0.0607⋅ⅈ  0.0049 + 0.0937\n",
       "                                                                              \n",
       "   -0.0057 + 0.0496⋅ⅈ  -0.0003 + 0.0914⋅ⅈ  -0.0045 + 0.0412⋅ⅈ  -0.0012 + 0.076\n",
       "                                                                              \n",
       "ⅈ  0.0279 + 0.2335⋅ⅈ   -0.0004 + 0.094⋅ⅈ   0.0047 + 0.0998⋅ⅈ   0.0015 + 0.0904\n",
       "                                                                              \n",
       "ⅈ  -0.0004 + 0.094⋅ⅈ   0.0297 + 0.2371⋅ⅈ        0.0755⋅ⅈ       0.0125 + 0.1359\n",
       "                                                                              \n",
       "ⅈ  0.0047 + 0.0998⋅ⅈ        0.0755⋅ⅈ       0.0102 + 0.2008⋅ⅈ   0.0038 + 0.1323\n",
       "                                                                              \n",
       "ⅈ  0.0015 + 0.0904⋅ⅈ   0.0125 + 0.1359⋅ⅈ   0.0038 + 0.1323⋅ⅈ   0.0339 + 0.2982\n",
       "                                                                              \n",
       "ⅈ       0.0738⋅ⅈ       0.0089 + 0.1177⋅ⅈ   0.0036 + 0.0956⋅ⅈ   0.0276 + 0.2082\n",
       "                                                                              \n",
       "   -0.0037 + 0.0323⋅ⅈ  -0.0002 + 0.0596⋅ⅈ  -0.0029 + 0.0268⋅ⅈ  -0.0008 + 0.049\n",
       "                                                                              \n",
       "ⅈ  0.0033 + 0.0713⋅ⅈ        0.0539⋅ⅈ       0.0073 + 0.1434⋅ⅈ   0.0027 + 0.0945\n",
       "\n",
       "2⋅ⅈ  -0.0018 + 0.051⋅ⅈ   -0.0029 + 0.0264⋅ⅈ  -0.0014 + 0.0353⋅ⅈ⎤\n",
       "                                                               ⎥\n",
       "7⋅ⅈ  -0.0024 + 0.0663⋅ⅈ  -0.0038 + 0.0343⋅ⅈ  -0.0018 + 0.0459⋅ⅈ⎥\n",
       "                                                               ⎥\n",
       "⋅ⅈ   0.0029 + 0.0942⋅ⅈ   0.0001 + 0.0622⋅ⅈ   -0.0012 + 0.0434⋅ⅈ⎥\n",
       "                                                               ⎥\n",
       "1⋅ⅈ  -0.0003 + 0.1085⋅ⅈ   0.0052 + 0.102⋅ⅈ   -0.0032 + 0.0294⋅ⅈ⎥\n",
       "                                                               ⎥\n",
       "⋅ⅈ        0.0738⋅ⅈ       -0.0037 + 0.0323⋅ⅈ  0.0033 + 0.0713⋅ⅈ ⎥\n",
       "                                                               ⎥\n",
       "⋅ⅈ   0.0089 + 0.1177⋅ⅈ   -0.0002 + 0.0596⋅ⅈ       0.0539⋅ⅈ     ⎥\n",
       "                                                               ⎥\n",
       "⋅ⅈ   0.0036 + 0.0956⋅ⅈ   -0.0029 + 0.0268⋅ⅈ  0.0073 + 0.1434⋅ⅈ ⎥\n",
       "                                                               ⎥\n",
       "⋅ⅈ   0.0276 + 0.2082⋅ⅈ   -0.0008 + 0.0496⋅ⅈ  0.0027 + 0.0945⋅ⅈ ⎥\n",
       "                                                               ⎥\n",
       "⋅ⅈ   0.0677 + 0.4536⋅ⅈ   -0.0002 + 0.0708⋅ⅈ  0.0026 + 0.0683⋅ⅈ ⎥\n",
       "                                                               ⎥\n",
       "6⋅ⅈ  -0.0002 + 0.0708⋅ⅈ  0.0034 + 0.1187⋅ⅈ   -0.0021 + 0.0192⋅ⅈ⎥\n",
       "                                                               ⎥\n",
       "⋅ⅈ   0.0026 + 0.0683⋅ⅈ   -0.0021 + 0.0192⋅ⅈ  0.0052 + 0.1739⋅ⅈ ⎦"
      ]
     },
     "metadata": {},
     "output_type": "display_data"
    }
   ],
   "source": [
    "from sympy import *\n",
    "from IPython.display import display, Latex\n",
    "init_printing(use_latex='mathjax')\n",
    "\n",
    "# Display 11x11 Bus impedance matrix\n",
    "display(Latex(\"$\\mathbf{Z}_{bus} = $\"), Matrix(np.round(zbus,4)))"
   ]
  },
  {
   "cell_type": "code",
   "execution_count": 4,
   "id": "174816d2",
   "metadata": {
    "ExecuteTime": {
     "end_time": "2022-08-20T12:53:02.499803Z",
     "start_time": "2022-08-20T12:52:57.568128Z"
    }
   },
   "outputs": [
    {
     "name": "stdout",
     "output_type": "stream",
     "text": [
      "Enter Faulted Bus No. -> 8\n",
      "Enter Fault Impedance Zf = R + Xj in complex form (for bolted fault enter 0). Zf = 0\n",
      "\n",
      "Balanced three-phase fault at bus No. 8\n",
      "Total fault current = 3.3319 Per unit\n",
      "\n",
      "Bus Voltages during the fault in per unit\n",
      "  Bus No.    Magnitude (pu.)    Angle (deg.)\n",
      "---------  -----------------  --------------\n",
      "        1             0.8082         -1.818\n",
      "        2             0.7508         -2.5443\n",
      "        3             0.6882         -1.5987\n",
      "        4             0.7491         -2.4902\n",
      "        5             0.7007         -2.3762\n",
      "        6             0.5454         -1.0194\n",
      "        7             0.5618         -3.8128\n",
      "        8             0               0\n",
      "        9             0.3008          2.4499\n",
      "       10             0.8362         -1.4547\n",
      "       11             0.6866         -2.2272\n",
      "\n",
      "Line currents for fault at bus No. 8\n",
      "  From    To    Magnitude (pu.)    Angle (deg.)\n",
      "------  ----  -----------------  --------------\n",
      "     1     2             0.9697        -82.4034\n",
      "     2     3             0.2053        -87.8751\n",
      "     2     5              0.323        -79.9626\n",
      "     2     6             0.4427        -81.6497\n",
      "     3     6             0.3556        -88.0987\n",
      "     4     3             0.1503        -88.4042\n",
      "     4     6             0.3305        -82.3804\n",
      "     4     9             0.6229        -81.3672\n",
      "     5     7              0.323        -79.9626\n",
      "     6     8             1.1274        -83.8944\n",
      "     7     8              1.582        -84.0852\n",
      "     8     F             3.3319        -83.5126\n",
      "     9     8             0.6229        -81.3672\n",
      "    10     4             1.1029        -82.6275\n",
      "    11     7             1.2601         -85.141\n"
     ]
    }
   ],
   "source": [
    "# Balanced fault analysis at bus 8\n",
    "symfault(zdata,zbus)"
   ]
  },
  {
   "cell_type": "markdown",
   "id": "ddf5e280",
   "metadata": {},
   "source": [
    "## 2. Unbalanced Fault Analysis Using Symmetrical Components"
   ]
  },
  {
   "cell_type": "code",
   "execution_count": 5,
   "id": "fee99b8e",
   "metadata": {
    "ExecuteTime": {
     "end_time": "2022-08-20T12:53:02.531191Z",
     "start_time": "2022-08-20T12:53:02.499803Z"
    }
   },
   "outputs": [],
   "source": [
    "# Build bus impedance matrix from zdata...\n",
    "# From bus (No.), To bus (No.), R (pu.), X(pu.)\n",
    "zdata1 = np.array([\n",
    "    [0,1,0,0.25],\n",
    "    [0,2,0,0.25],\n",
    "    [1,2,0,0.125],\n",
    "    [1,3,0,0.15],\n",
    "    [2,3,0,0.25]\n",
    "])\n",
    "zdata2 = zdata1\n",
    "zdata0 = np.array([\n",
    "    [0,1,0,0.4],\n",
    "    [0,2,0,0.1],\n",
    "    [1,3,0,0.35],\n",
    "    [1,2,0,0.3],\n",
    "    [2,3,0,0.7125]\n",
    "])\n",
    "\n",
    "# Sequence bus impedance matrix.\n",
    "zbus1 = zbuild(zdata1)\n",
    "zbus2 = zbus1\n",
    "zbus0 = zbuild(zdata0)"
   ]
  },
  {
   "cell_type": "code",
   "execution_count": 6,
   "id": "cd1f9498",
   "metadata": {
    "ExecuteTime": {
     "end_time": "2022-08-20T12:53:02.593688Z",
     "start_time": "2022-08-20T12:53:02.531191Z"
    }
   },
   "outputs": [
    {
     "data": {
      "text/latex": [
       "$\\mathbf{Z}_{bus}^0 = $"
      ],
      "text/plain": [
       "<IPython.core.display.Latex object>"
      ]
     },
     "metadata": {},
     "output_type": "display_data"
    },
    {
     "data": {
      "text/latex": [
       "$\\displaystyle \\left[\\begin{matrix}0.182 i & 0.0545 i & 0.14 i\\\\0.0545 i & 0.0864 i & 0.065 i\\\\0.14 i & 0.065 i & 0.35 i\\end{matrix}\\right]$"
      ],
      "text/plain": [
       "⎡0.182⋅ⅈ   0.0545⋅ⅈ  0.14⋅ⅈ ⎤\n",
       "⎢                           ⎥\n",
       "⎢0.0545⋅ⅈ  0.0864⋅ⅈ  0.065⋅ⅈ⎥\n",
       "⎢                           ⎥\n",
       "⎣ 0.14⋅ⅈ   0.065⋅ⅈ   0.35⋅ⅈ ⎦"
      ]
     },
     "metadata": {},
     "output_type": "display_data"
    },
    {
     "data": {
      "text/latex": [
       "$\\mathbf{Z}_{bus}^1 = \\mathbf{Z}_{bus}^2 = $"
      ],
      "text/plain": [
       "<IPython.core.display.Latex object>"
      ]
     },
     "metadata": {},
     "output_type": "display_data"
    },
    {
     "data": {
      "text/latex": [
       "$\\displaystyle \\left[\\begin{matrix}0.182 i & 0.0545 i & 0.14 i\\\\0.0545 i & 0.0864 i & 0.065 i\\\\0.14 i & 0.065 i & 0.35 i\\end{matrix}\\right]$"
      ],
      "text/plain": [
       "⎡0.182⋅ⅈ   0.0545⋅ⅈ  0.14⋅ⅈ ⎤\n",
       "⎢                           ⎥\n",
       "⎢0.0545⋅ⅈ  0.0864⋅ⅈ  0.065⋅ⅈ⎥\n",
       "⎢                           ⎥\n",
       "⎣ 0.14⋅ⅈ   0.065⋅ⅈ   0.35⋅ⅈ ⎦"
      ]
     },
     "metadata": {},
     "output_type": "display_data"
    }
   ],
   "source": [
    "display(Latex(\"$\\mathbf{Z}_{bus}^0 = $\"), Matrix(np.round(zbus0,4)))\n",
    "display(Latex(\"$\\mathbf{Z}_{bus}^1 = \\mathbf{Z}_{bus}^2 = $\"), Matrix(np.round(zbus0,4)))"
   ]
  },
  {
   "cell_type": "code",
   "execution_count": 7,
   "id": "bcf3f448",
   "metadata": {
    "ExecuteTime": {
     "end_time": "2022-08-20T12:53:12.120764Z",
     "start_time": "2022-08-20T12:53:02.593688Z"
    }
   },
   "outputs": [
    {
     "name": "stdout",
     "output_type": "stream",
     "text": [
      "Enter Faulted Bus No. -> 3\n",
      "Enter Fault Impedance Zf = R + Xj in complex form (for bolted fault enter 0). Zf = 0.1j\n",
      "\n",
      "Single line to-ground fault at bus No. 3\n",
      "Total fault current = 2.7523 Per unit\n",
      "\n",
      "Bus Voltages during the fault in per unit\n",
      "  Bus No.       Phase A        Phase A       Phase B        Phase B       Phase C        Phase C\n",
      "             Mag. (pu.)    Ang. (deg.)    Mag. (pu.)    Ang. (deg.)    Mag. (pu.)    Ang. (deg.)\n",
      "---------  ------------  -------------  ------------  -------------  ------------  -------------\n",
      "        1        0.633               0        1.0046       -120.453        1.0046        120.453\n",
      "        2        0.7202              0        0.9757       -117.433        0.9757        117.433\n",
      "        3        0.2752              0        1.0647       -125.567        1.0647        125.567\n",
      "\n",
      "Line currents for fault at bus No. 3\n",
      "  From    To       Phase A        Phase A       Phase B        Phase B       Phase C        Phase C\n",
      "                Mag. (pu.)    Ang. (deg.)    Mag. (pu.)    Ang. (deg.)    Mag. (pu.)    Ang. (deg.)\n",
      "------  ----  ------------  -------------  ------------  -------------  ------------  -------------\n",
      "     1     3        1.6514            -90             0        78.6901             0        63.4349\n",
      "     2     1        0.3761            -90         0.156            -90         0.156            -90\n",
      "     2     3        1.1009            -90             0        114.775             0        42.8789\n",
      "     3     F        2.7523            -90             0        18.4349             0        18.4349\n"
     ]
    }
   ],
   "source": [
    "# Line to Ground fault at bus 3 with fault impedance Zf = j0.1 pu...\n",
    "lgfault(zdata0,zbus0,zdata1,zbus1,zdata2,zbus2)"
   ]
  },
  {
   "cell_type": "code",
   "execution_count": 8,
   "id": "2fb09e6f",
   "metadata": {
    "ExecuteTime": {
     "end_time": "2022-08-20T12:53:15.754862Z",
     "start_time": "2022-08-20T12:53:12.123760Z"
    }
   },
   "outputs": [
    {
     "name": "stdout",
     "output_type": "stream",
     "text": [
      "Enter Faulted Bus No. -> 3\n",
      "Enter Fault Impedance Zf = R + Xj in complex form (for bolted fault enter 0). Zf = 0.1j\n",
      "\n",
      "Line to-line fault at bus No. 3\n",
      "Total fault current = 3.2075 Per unit\n",
      "\n",
      "Bus Voltages during the fault in per unit\n",
      "  Bus No.       Phase A        Phase A       Phase B        Phase B       Phase C        Phase C\n",
      "             Mag. (pu.)    Ang. (deg.)    Mag. (pu.)    Ang. (deg.)    Mag. (pu.)    Ang. (deg.)\n",
      "---------  ------------  -------------  ------------  -------------  ------------  -------------\n",
      "        1             1              0        0.672        -138.073        0.672         138.073\n",
      "        2             1              0        0.6939       -136.102        0.6939        136.102\n",
      "        3             1              0        0.5251       -162.216        0.5251        162.216\n",
      "\n",
      "Line currents for fault at bus No. 3\n",
      "  From    To       Phase A        Phase A       Phase B        Phase B       Phase C        Phase C\n",
      "                Mag. (pu.)    Ang. (deg.)    Mag. (pu.)    Ang. (deg.)    Mag. (pu.)    Ang. (deg.)\n",
      "------  ----  ------------  -------------  ------------  -------------  ------------  -------------\n",
      "     1     2             0            -90        0.2566              0        0.2566            180\n",
      "     1     3             0            -90        1.9245            180        1.9245             -0\n",
      "     2     3             0              0         1.283            180         1.283             -0\n",
      "     3     F             0              0        3.2075            180        3.2075             -0\n"
     ]
    }
   ],
   "source": [
    "# Line to Line fault at bus 3 with fault impedance Zf = j0.1 pu...\n",
    "llfault(zdata0,zbus0,zdata1,zbus1,zdata2,zbus2)"
   ]
  },
  {
   "cell_type": "code",
   "execution_count": 9,
   "id": "1b76bb8e",
   "metadata": {
    "ExecuteTime": {
     "end_time": "2022-08-20T12:53:19.846745Z",
     "start_time": "2022-08-20T12:53:15.757839Z"
    }
   },
   "outputs": [
    {
     "name": "stdout",
     "output_type": "stream",
     "text": [
      "Enter Faulted Bus No. -> 3\n",
      "Enter Fault Impedance Zf = R + Xj in complex form (for bolted fault enter 0). Zf = 0.1j\n",
      "\n",
      "Double line to-ground fault at bus No. 3\n",
      "Total fault current = 1.9737 Per unit\n",
      "\n",
      "Bus Voltages during the fault in per unit\n",
      "  Bus No.       Phase A        Phase A       Phase B        Phase B       Phase C        Phase C\n",
      "             Mag. (pu.)    Ang. (deg.)    Mag. (pu.)    Ang. (deg.)    Mag. (pu.)    Ang. (deg.)\n",
      "---------  ------------  -------------  ------------  -------------  ------------  -------------\n",
      "        1        1.0066              0        0.5088       -135.864        0.5088        135.864\n",
      "        2        0.9638              0        0.574        -136.702        0.574         136.702\n",
      "        3        1.0855              0        0.1974        180            0.1974        180\n",
      "\n",
      "Line currents for fault at bus No. 3\n",
      "  From    To       Phase A        Phase A       Phase B        Phase B       Phase C        Phase C\n",
      "                Mag. (pu.)    Ang. (deg.)    Mag. (pu.)    Ang. (deg.)    Mag. (pu.)    Ang. (deg.)\n",
      "------  ----  ------------  -------------  ------------  -------------  ------------  -------------\n",
      "     1     2        0.1118            -90        0.3682       -31.2091        0.3682       -148.791\n",
      "     3     F             0            -90        4.0583        165.927        4.0583        14.0735\n",
      "     3     1             0             90         2.435       -14.0735         2.435       -165.927\n",
      "     3     2             0             90        1.6233       -14.0735        1.6233       -165.927\n"
     ]
    }
   ],
   "source": [
    "# Double Line to Ground fault at bus 3 with fault impedance Zf = j0.1 pu...\n",
    "dlgfault(zdata0,zbus0,zdata1,zbus1,zdata2,zbus2)"
   ]
  },
  {
   "cell_type": "code",
   "execution_count": null,
   "id": "37b14aa5",
   "metadata": {},
   "outputs": [],
   "source": []
  }
 ],
 "metadata": {
  "hide_input": false,
  "kernelspec": {
   "display_name": "Python 3 (ipykernel)",
   "language": "python",
   "name": "python3"
  },
  "language_info": {
   "codemirror_mode": {
    "name": "ipython",
    "version": 3
   },
   "file_extension": ".py",
   "mimetype": "text/x-python",
   "name": "python",
   "nbconvert_exporter": "python",
   "pygments_lexer": "ipython3",
   "version": "3.8.11"
  },
  "latex_envs": {
   "LaTeX_envs_menu_present": true,
   "autoclose": false,
   "autocomplete": true,
   "bibliofile": "biblio.bib",
   "cite_by": "apalike",
   "current_citInitial": 1,
   "eqLabelWithNumbers": true,
   "eqNumInitial": 1,
   "hotkeys": {
    "equation": "Ctrl-E",
    "itemize": "Ctrl-I"
   },
   "labels_anchors": false,
   "latex_user_defs": false,
   "report_style_numbering": false,
   "user_envs_cfg": false
  }
 },
 "nbformat": 4,
 "nbformat_minor": 5
}
